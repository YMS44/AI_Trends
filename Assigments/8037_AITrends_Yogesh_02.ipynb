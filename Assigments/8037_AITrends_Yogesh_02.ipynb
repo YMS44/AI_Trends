{
 "cells": [
  {
   "cell_type": "code",
   "execution_count": 1,
   "metadata": {},
   "outputs": [],
   "source": [
    "# Intialization\n",
    "import os\n",
    "import sys\n",
    "\n",
    "os.environ[\"SPARK_HOME\"] = \"/home/talentum/spark\"\n",
    "os.environ[\"PYLIB\"] = os.environ[\"SPARK_HOME\"] + \"/python/lib\"\n",
    "# In below two lines, use /usr/bin/python2.7 if you want to use Python 2\n",
    "os.environ[\"PYSPARK_PYTHON\"] = \"/usr/bin/python3.6\" \n",
    "os.environ[\"PYSPARK_DRIVER_PYTHON\"] = \"/usr/bin/python3\"\n",
    "sys.path.insert(0, os.environ[\"PYLIB\"] +\"/py4j-0.10.7-src.zip\")\n",
    "sys.path.insert(0, os.environ[\"PYLIB\"] +\"/pyspark.zip\")\n",
    "\n",
    "# NOTE: Whichever package you want mention here.\n",
    "# os.environ['PYSPARK_SUBMIT_ARGS'] = '--packages com.databricks:spark-xml_2.11:0.6.0 pyspark-shell' \n",
    "# os.environ['PYSPARK_SUBMIT_ARGS'] = '--packages org.apache.spark:spark-avro_2.11:2.4.0 pyspark-shell'\n",
    "os.environ['PYSPARK_SUBMIT_ARGS'] = '--packages com.databricks:spark-xml_2.11:0.6.0,org.apache.spark:spark-avro_2.11:2.4.3 pyspark-shell'\n",
    "# os.environ['PYSPARK_SUBMIT_ARGS'] = '--packages com.databricks:spark-xml_2.11:0.6.0,org.apache.spark:spark-avro_2.11:2.4.0 pyspark-shell'"
   ]
  },
  {
   "cell_type": "code",
   "execution_count": 2,
   "metadata": {},
   "outputs": [],
   "source": [
    "#Entrypoint 2.x\n",
    "from pyspark.sql import SparkSession\n",
    "spark = SparkSession.builder.appName(\"Spark SQL basic example\").enableHiveSupport().getOrCreate()\n",
    "\n",
    "# On yarn:\n",
    "# spark = SparkSession.builder.appName(\"Spark SQL basic example\").enableHiveSupport().master(\"yarn\").getOrCreate()\n",
    "# specify .master(\"yarn\")\n",
    "\n",
    "sc = spark.sparkContext"
   ]
  },
  {
   "cell_type": "code",
   "execution_count": 4,
   "metadata": {},
   "outputs": [
    {
     "name": "stdout",
     "output_type": "stream",
     "text": [
      "+----------+-------------+----------+-----------+---------+\n",
      "|      DATE|        TITLE|first_name|middle_name|last_name|\n",
      "+----------+-------------+----------+-----------+---------+\n",
      "|02/08/2017|Councilmember|  Jennifer|         S.|    Gates|\n",
      "|02/08/2017|Councilmember|    Philip|         T.| Kingston|\n",
      "|02/08/2017|        Mayor|   Michael|         S.| Rawlings|\n",
      "|02/08/2017|Councilmember|      Adam|           |  Medrano|\n",
      "|02/08/2017|Councilmember|     Casey|           |   Thomas|\n",
      "|02/08/2017|Councilmember|   Carolyn|       King|   Arnold|\n",
      "|02/08/2017|Councilmember|     Scott|           |   Griggs|\n",
      "|02/08/2017|Councilmember|        B.|       Adam|  McGough|\n",
      "|02/08/2017|Councilmember|       Lee|           | Kleinman|\n",
      "|02/08/2017|Councilmember|     Sandy|           |  Greyson|\n",
      "|02/08/2017|Councilmember|  Jennifer|         S.|    Gates|\n",
      "|02/08/2017|Councilmember|    Philip|         T.| Kingston|\n",
      "|02/08/2017|        Mayor|   Michael|         S.| Rawlings|\n",
      "|02/08/2017|Councilmember|      Adam|           |  Medrano|\n",
      "|02/08/2017|Councilmember|     Casey|           |   Thomas|\n",
      "|02/08/2017|Councilmember|   Carolyn|       King|   Arnold|\n",
      "|02/08/2017|Councilmember|    Rickey|         D.| Callahan|\n",
      "|01/11/2017|Councilmember|  Jennifer|         S.|    Gates|\n",
      "|04/25/2018|Councilmember|     Sandy|           |  Greyson|\n",
      "|04/25/2018|Councilmember|  Jennifer|         S.|    Gates|\n",
      "+----------+-------------+----------+-----------+---------+\n",
      "only showing top 20 rows\n",
      "\n"
     ]
    }
   ],
   "source": [
    "import pyspark.sql.functions as F\n",
    "from pyspark.sql.types import *\n",
    "\n",
    "# Load the CSV file\n",
    "voter_df = spark.read.format('csv').options(Header=True).load('file:///home/talentum/test-jupyter/P3/M4/sm16/Dataset/DallasCouncilVoters.csv.gz')\n",
    "\n",
    "voter_df = voter_df.filter(voter_df['VOTER_NAME'].isNotNull())\n",
    "\n",
    "# Add a new column called splits separated on whitespace\n",
    "voter_df = voter_df.withColumn('splits', F.split(voter_df.VOTER_NAME, '\\s+'))\n",
    "\n",
    "# Create a new column called first_name based on the first item in splits\n",
    "voter_df = voter_df.withColumn('first_name', voter_df.splits.getItem(0))\n",
    "\n",
    "def getMiddleName(names):\n",
    "# Return a space separated string of names\\\n",
    "    return ' '.join(names[1:-1])\n",
    "\n",
    "# Define the method as a UDF\n",
    "udfMiddle = F.udf(getMiddleName, StringType())\n",
    "\n",
    "# Create a new column using your UDF\n",
    "voter_df = voter_df.withColumn('middle_name', udfMiddle(F.col('splits')))\n",
    "\n",
    "# Get the last entry of the splits list and create a column called last_name\n",
    "voter_df = voter_df.withColumn('last_name', voter_df.splits.getItem(F.size('splits') - 1))\n",
    "\n",
    "voter_df=voter_df.drop('splits', 'VOTER_NAME')\n",
    "# Show the DataFrame\n",
    "voter_df.show()"
   ]
  }
 ],
 "metadata": {
  "kernelspec": {
   "display_name": "Python 3",
   "language": "python",
   "name": "python3"
  },
  "language_info": {
   "codemirror_mode": {
    "name": "ipython",
    "version": 3
   },
   "file_extension": ".py",
   "mimetype": "text/x-python",
   "name": "python",
   "nbconvert_exporter": "python",
   "pygments_lexer": "ipython3",
   "version": "3.6.9"
  },
  "toc": {
   "base_numbering": 1,
   "nav_menu": {},
   "number_sections": true,
   "sideBar": true,
   "skip_h1_title": false,
   "title_cell": "Table of Contents",
   "title_sidebar": "Contents",
   "toc_cell": false,
   "toc_position": {},
   "toc_section_display": true,
   "toc_window_display": false
  }
 },
 "nbformat": 4,
 "nbformat_minor": 2
}
