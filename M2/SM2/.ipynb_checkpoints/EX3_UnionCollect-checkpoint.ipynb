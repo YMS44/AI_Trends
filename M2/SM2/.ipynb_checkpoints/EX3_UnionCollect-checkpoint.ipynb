{
 "cells": [
  {
   "cell_type": "code",
   "execution_count": 1,
   "id": "ee6f4c44",
   "metadata": {},
   "outputs": [],
   "source": [
    "# Intialization\n",
    "import os\n",
    "import sys\n",
    "\n",
    "os.environ[\"SPARK_HOME\"] = \"/home/talentum/spark\"\n",
    "os.environ[\"PYLIB\"] = os.environ[\"SPARK_HOME\"] + \"/python/lib\"\n",
    "# In below two lines, use /usr/bin/python2.7 if you want to use Python 2\n",
    "os.environ[\"PYSPARK_PYTHON\"] = \"/usr/bin/python3.6\" \n",
    "os.environ[\"PYSPARK_DRIVER_PYTHON\"] = \"/usr/bin/python3\"\n",
    "sys.path.insert(0, os.environ[\"PYLIB\"] +\"/py4j-0.10.7-src.zip\")\n",
    "sys.path.insert(0, os.environ[\"PYLIB\"] +\"/pyspark.zip\")\n",
    "\n",
    "# NOTE: Whichever package you want mention here.\n",
    "# os.environ['PYSPARK_SUBMIT_ARGS'] = '--packages com.databricks:spark-xml_2.11:0.6.0 pyspark-shell' \n",
    "# os.environ['PYSPARK_SUBMIT_ARGS'] = '--packages org.apache.spark:spark-avro_2.11:2.4.0 pyspark-shell'\n",
    "os.environ['PYSPARK_SUBMIT_ARGS'] = '--packages com.databricks:spark-xml_2.11:0.6.0,org.apache.spark:spark-avro_2.11:2.4.3 pyspark-shell'\n",
    "# os.environ['PYSPARK_SUBMIT_ARGS'] = '--packages com.databricks:spark-xml_2.11:0.6.0,org.apache.spark:spark-avro_2.11:2.4.0 pyspark-shell'"
   ]
  },
  {
   "cell_type": "code",
   "execution_count": 2,
   "id": "45b5741f",
   "metadata": {},
   "outputs": [],
   "source": [
    "#Entrypoint 2.x\n",
    "from pyspark.sql import SparkSession\n",
    "spark = SparkSession.builder.appName(\"Spark SQL basic example\").enableHiveSupport().getOrCreate()\n",
    "\n",
    "# On yarn:\n",
    "# spark = SparkSession.builder.appName(\"Spark SQL basic example\").enableHiveSupport().master(\"yarn\").getOrCreate()\n",
    "# specify .master(\"yarn\")\n",
    "\n",
    "sc = spark.sparkContext"
   ]
  },
  {
   "cell_type": "code",
   "execution_count": 6,
   "id": "8096bd2a",
   "metadata": {},
   "outputs": [],
   "source": [
    "inputRDD = sc.textFile(\"file:////home/talentum/spark/README.md\")\n",
    "errorRDD = inputRDD.filter(lambda x: \"ERROR\" in x.split())\n",
    "warningsRDD = inputRDD.filter(lambda x: \"WARN\" in x.split())\n"
   ]
  },
  {
   "cell_type": "code",
   "execution_count": 7,
   "id": "a7fffaba",
   "metadata": {},
   "outputs": [],
   "source": [
    "# Print the first four lines of fileRDD\n",
    "# for line in inputRDD.take(4): \n",
    "#   print(line)"
   ]
  },
  {
   "cell_type": "code",
   "execution_count": 8,
   "id": "3ffc3cd9",
   "metadata": {},
   "outputs": [],
   "source": [
    "combinedRDD = errorRDD.union(warningsRDD)"
   ]
  },
  {
   "cell_type": "code",
   "execution_count": 9,
   "id": "a3473dc0",
   "metadata": {},
   "outputs": [],
   "source": [
    "# for line in combinedRDD.take(4): \n",
    "#   print(line)"
   ]
  },
  {
   "cell_type": "code",
   "execution_count": 10,
   "id": "176953ae",
   "metadata": {},
   "outputs": [],
   "source": [
    "# print(combinedRDD.count())"
   ]
  },
  {
   "cell_type": "code",
   "execution_count": 11,
   "id": "9a3f322e",
   "metadata": {},
   "outputs": [],
   "source": [
    "# print(errorRDD.count())"
   ]
  },
  {
   "cell_type": "code",
   "execution_count": 12,
   "id": "633620a2",
   "metadata": {},
   "outputs": [],
   "source": [
    "# print(warningsRDD.count())"
   ]
  },
  {
   "cell_type": "code",
   "execution_count": 13,
   "id": "1bf8b167",
   "metadata": {},
   "outputs": [
    {
     "ename": "AttributeError",
     "evalue": "'RDD' object has no attribute 'get'",
     "output_type": "error",
     "traceback": [
      "\u001b[0;31m---------------------------------------------------------------------------\u001b[0m",
      "\u001b[0;31mAttributeError\u001b[0m                            Traceback (most recent call last)",
      "\u001b[0;32m<ipython-input-13-70cb38dbdac0>\u001b[0m in \u001b[0;36m<module>\u001b[0;34m\u001b[0m\n\u001b[0;32m----> 1\u001b[0;31m \u001b[0mprint\u001b[0m\u001b[0;34m(\u001b[0m\u001b[0mcombinedRDD\u001b[0m\u001b[0;34m.\u001b[0m\u001b[0mget\u001b[0m\u001b[0;34m)\u001b[0m\u001b[0;34m\u001b[0m\u001b[0;34m\u001b[0m\u001b[0m\n\u001b[0m",
      "\u001b[0;31mAttributeError\u001b[0m: 'RDD' object has no attribute 'get'"
     ]
    }
   ],
   "source": [
    "print(combinedRDD.getNum)"
   ]
  },
  {
   "cell_type": "code",
   "execution_count": 14,
   "id": "6f799fb2",
   "metadata": {},
   "outputs": [],
   "source": [
    "combinedRDD.saveAsTextFile(\"file:///home/talentum/test-jupyter/P2/M2/SM2/output_file.txt\") # saved each partition in different files\n",
    "\n",
    "\n",
    "# it is an action It will start the computation"
   ]
  },
  {
   "cell_type": "code",
   "execution_count": null,
   "id": "8ff82bb3",
   "metadata": {},
   "outputs": [],
   "source": []
  },
  {
   "cell_type": "code",
   "execution_count": null,
   "id": "94ae1be5",
   "metadata": {},
   "outputs": [],
   "source": []
  }
 ],
 "metadata": {
  "kernelspec": {
   "display_name": "Python 3",
   "language": "python",
   "name": "python3"
  },
  "language_info": {
   "codemirror_mode": {
    "name": "ipython",
    "version": 3
   },
   "file_extension": ".py",
   "mimetype": "text/x-python",
   "name": "python",
   "nbconvert_exporter": "python",
   "pygments_lexer": "ipython3",
   "version": "3.6.9"
  }
 },
 "nbformat": 4,
 "nbformat_minor": 5
}
