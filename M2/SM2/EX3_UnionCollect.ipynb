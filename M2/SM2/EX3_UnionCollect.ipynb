{
 "cells": [
  {
   "cell_type": "code",
   "execution_count": 1,
   "id": "ee6f4c44",
   "metadata": {},
   "outputs": [],
   "source": [
    "# Intialization\n",
    "import os\n",
    "import sys\n",
    "\n",
    "os.environ[\"SPARK_HOME\"] = \"/home/talentum/spark\"\n",
    "os.environ[\"PYLIB\"] = os.environ[\"SPARK_HOME\"] + \"/python/lib\"\n",
    "# In below two lines, use /usr/bin/python2.7 if you want to use Python 2\n",
    "os.environ[\"PYSPARK_PYTHON\"] = \"/usr/bin/python3.6\" \n",
    "os.environ[\"PYSPARK_DRIVER_PYTHON\"] = \"/usr/bin/python3\"\n",
    "sys.path.insert(0, os.environ[\"PYLIB\"] +\"/py4j-0.10.7-src.zip\")\n",
    "sys.path.insert(0, os.environ[\"PYLIB\"] +\"/pyspark.zip\")\n",
    "\n",
    "# NOTE: Whichever package you want mention here.\n",
    "# os.environ['PYSPARK_SUBMIT_ARGS'] = '--packages com.databricks:spark-xml_2.11:0.6.0 pyspark-shell' \n",
    "# os.environ['PYSPARK_SUBMIT_ARGS'] = '--packages org.apache.spark:spark-avro_2.11:2.4.0 pyspark-shell'\n",
    "os.environ['PYSPARK_SUBMIT_ARGS'] = '--packages com.databricks:spark-xml_2.11:0.6.0,org.apache.spark:spark-avro_2.11:2.4.3 pyspark-shell'\n",
    "# os.environ['PYSPARK_SUBMIT_ARGS'] = '--packages com.databricks:spark-xml_2.11:0.6.0,org.apache.spark:spark-avro_2.11:2.4.0 pyspark-shell'"
   ]
  },
  {
   "cell_type": "code",
   "execution_count": 2,
   "id": "45b5741f",
   "metadata": {},
   "outputs": [],
   "source": [
    "#Entrypoint 2.x\n",
    "from pyspark.sql import SparkSession\n",
    "spark = SparkSession.builder.appName(\"Spark SQL basic example\").enableHiveSupport().getOrCreate()\n",
    "\n",
    "# On yarn:\n",
    "# spark = SparkSession.builder.appName(\"Spark SQL basic example\").enableHiveSupport().master(\"yarn\").getOrCreate()\n",
    "# specify .master(\"yarn\")\n",
    "\n",
    "sc = spark.sparkContext"
   ]
  },
  {
   "cell_type": "code",
   "execution_count": 24,
   "id": "8096bd2a",
   "metadata": {},
   "outputs": [],
   "source": [
    "inputRDD = sc.textFile(\"file:////home/talentum/spark/README.md\")\n",
    "errorRDD = inputRDD.filter(lambda x: \"ERROR\" in x.split())\n",
    "warningsRDD = inputRDD.filter(lambda x: \"WARN\" in x.split())\n"
   ]
  },
  {
   "cell_type": "code",
   "execution_count": 25,
   "id": "a7fffaba",
   "metadata": {},
   "outputs": [],
   "source": [
    "# Print the first four lines of fileRDD\n",
    "# for line in inputRDD.take(4): \n",
    "#   print(line)"
   ]
  },
  {
   "cell_type": "code",
   "execution_count": 26,
   "id": "3ffc3cd9",
   "metadata": {},
   "outputs": [],
   "source": [
    "combinedRDD = errorRDD.union(warningsRDD)"
   ]
  },
  {
   "cell_type": "code",
   "execution_count": 27,
   "id": "a3473dc0",
   "metadata": {},
   "outputs": [],
   "source": [
    "for line in combinedRDD.take(4): \n",
    "    print(line)"
   ]
  },
  {
   "cell_type": "code",
   "execution_count": 10,
   "id": "176953ae",
   "metadata": {},
   "outputs": [],
   "source": [
    "# print(combinedRDD.count())"
   ]
  },
  {
   "cell_type": "code",
   "execution_count": 11,
   "id": "9a3f322e",
   "metadata": {},
   "outputs": [],
   "source": [
    "# print(errorRDD.count())"
   ]
  },
  {
   "cell_type": "code",
   "execution_count": 12,
   "id": "633620a2",
   "metadata": {},
   "outputs": [],
   "source": [
    "# print(warningsRDD.count())"
   ]
  },
  {
   "cell_type": "code",
   "execution_count": 15,
   "id": "1bf8b167",
   "metadata": {},
   "outputs": [
    {
     "name": "stdout",
     "output_type": "stream",
     "text": [
      "4\n"
     ]
    }
   ],
   "source": [
    "print(combinedRDD.getNumPartitions())"
   ]
  },
  {
   "cell_type": "code",
   "execution_count": 17,
   "id": "6f799fb2",
   "metadata": {},
   "outputs": [],
   "source": [
    "# combinedRDD.saveAsTextFile(\"file:///home/talentum/test-jupyter/P2/M2/SM2/output_file.txt\") # saved each partition in different files\n",
    "\n",
    "\n",
    "# it is an action It will start the computation"
   ]
  },
  {
   "cell_type": "code",
   "execution_count": 20,
   "id": "8ff82bb3",
   "metadata": {},
   "outputs": [],
   "source": [
    "combinedRDD = combinedRDD.coalesce(1)"
   ]
  },
  {
   "cell_type": "code",
   "execution_count": 21,
   "id": "1b2395ba",
   "metadata": {},
   "outputs": [
    {
     "name": "stdout",
     "output_type": "stream",
     "text": [
      "1\n"
     ]
    }
   ],
   "source": [
    "print(combinedRDD.getNumPartitions())"
   ]
  },
  {
   "cell_type": "code",
   "execution_count": 23,
   "id": "9083c1ae",
   "metadata": {},
   "outputs": [],
   "source": [
    "combinedRDD.saveAsTextFile(\"file:///home/talentum/test-jupyter/test/P2/M2/SM2/output_file.txt\")"
   ]
  },
  {
   "cell_type": "code",
   "execution_count": null,
   "id": "112198bd",
   "metadata": {},
   "outputs": [],
   "source": []
  }
 ],
 "metadata": {
  "kernelspec": {
   "display_name": "Python 3",
   "language": "python",
   "name": "python3"
  },
  "language_info": {
   "codemirror_mode": {
    "name": "ipython",
    "version": 3
   },
   "file_extension": ".py",
   "mimetype": "text/x-python",
   "name": "python",
   "nbconvert_exporter": "python",
   "pygments_lexer": "ipython3",
   "version": "3.6.9"
  }
 },
 "nbformat": 4,
 "nbformat_minor": 5
}
