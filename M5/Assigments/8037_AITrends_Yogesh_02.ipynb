{
 "cells": [
  {
   "cell_type": "code",
   "execution_count": 1,
   "metadata": {},
   "outputs": [],
   "source": [
    "# Intialization\n",
    "import os\n",
    "import sys\n",
    "\n",
    "os.environ[\"SPARK_HOME\"] = \"/home/talentum/spark\"\n",
    "os.environ[\"PYLIB\"] = os.environ[\"SPARK_HOME\"] + \"/python/lib\"\n",
    "# In below two lines, use /usr/bin/python2.7 if you want to use Python 2\n",
    "os.environ[\"PYSPARK_PYTHON\"] = \"/usr/bin/python3.6\" \n",
    "os.environ[\"PYSPARK_DRIVER_PYTHON\"] = \"/usr/bin/python3\"\n",
    "sys.path.insert(0, os.environ[\"PYLIB\"] +\"/py4j-0.10.7-src.zip\")\n",
    "sys.path.insert(0, os.environ[\"PYLIB\"] +\"/pyspark.zip\")\n",
    "\n",
    "# NOTE: Whichever package you want mention here.\n",
    "# os.environ['PYSPARK_SUBMIT_ARGS'] = '--packages com.databricks:spark-xml_2.11:0.6.0 pyspark-shell' \n",
    "# os.environ['PYSPARK_SUBMIT_ARGS'] = '--packages org.apache.spark:spark-avro_2.11:2.4.0 pyspark-shell'\n",
    "os.environ['PYSPARK_SUBMIT_ARGS'] = '--packages com.databricks:spark-xml_2.11:0.6.0,org.apache.spark:spark-avro_2.11:2.4.3 pyspark-shell'\n",
    "# os.environ['PYSPARK_SUBMIT_ARGS'] = '--packages com.databricks:spark-xml_2.11:0.6.0,org.apache.spark:spark-avro_2.11:2.4.0 pyspark-shell'"
   ]
  },
  {
   "cell_type": "code",
   "execution_count": 2,
   "metadata": {},
   "outputs": [],
   "source": [
    "#Entrypoint 2.x\n",
    "from pyspark.sql import SparkSession\n",
    "spark = SparkSession.builder.appName(\"Spark SQL basic example\").enableHiveSupport().getOrCreate()\n",
    "\n",
    "# On yarn:\n",
    "# spark = SparkSession.builder.appName(\"Spark SQL basic example\").enableHiveSupport().master(\"yarn\").getOrCreate()\n",
    "# specify .master(\"yarn\")\n",
    "\n",
    "sc = spark.sparkContext"
   ]
  },
  {
   "cell_type": "code",
   "execution_count": 3,
   "metadata": {},
   "outputs": [
    {
     "name": "stdout",
     "output_type": "stream",
     "text": [
      "+----------+-------------+----------+-----------+---------+\n",
      "|      DATE|        TITLE|First_name|Second_name|Last_name|\n",
      "+----------+-------------+----------+-----------+---------+\n",
      "|02/08/2017|Councilmember|  Jennifer|         S.|    Gates|\n",
      "|02/08/2017|Councilmember|    Philip|         T.| Kingston|\n",
      "|02/08/2017|        Mayor|   Michael|         S.| Rawlings|\n",
      "|02/08/2017|Councilmember|      Adam|           |  Medrano|\n",
      "|02/08/2017|Councilmember|     Casey|           |   Thomas|\n",
      "|02/08/2017|Councilmember|   Carolyn|       King|   Arnold|\n",
      "|02/08/2017|Councilmember|     Scott|           |   Griggs|\n",
      "|02/08/2017|Councilmember|        B.|       Adam|  McGough|\n",
      "|02/08/2017|Councilmember|       Lee|           | Kleinman|\n",
      "|02/08/2017|Councilmember|     Sandy|           |  Greyson|\n",
      "|02/08/2017|Councilmember|  Jennifer|         S.|    Gates|\n",
      "|02/08/2017|Councilmember|    Philip|         T.| Kingston|\n",
      "|02/08/2017|        Mayor|   Michael|         S.| Rawlings|\n",
      "|02/08/2017|Councilmember|      Adam|           |  Medrano|\n",
      "|02/08/2017|Councilmember|     Casey|           |   Thomas|\n",
      "|02/08/2017|Councilmember|   Carolyn|       King|   Arnold|\n",
      "|02/08/2017|Councilmember|    Rickey|         D.| Callahan|\n",
      "|01/11/2017|Councilmember|  Jennifer|         S.|    Gates|\n",
      "|04/25/2018|Councilmember|     Sandy|           |  Greyson|\n",
      "|04/25/2018|Councilmember|  Jennifer|         S.|    Gates|\n",
      "+----------+-------------+----------+-----------+---------+\n",
      "only showing top 20 rows\n",
      "\n"
     ]
    }
   ],
   "source": [
    "import pyspark.sql.functions as F\n",
    "from pyspark.sql.types import *\n",
    "\n",
    "# Load the data\n",
    "voter_df = spark.read.format('csv').options(header=True).load('file:///home/talentum/test-jupyter/P3/M4/sm16/Dataset/DallasCouncilVoters.csv.gz')\n",
    "\n",
    "# Filter out rows with null VOTER_NAME\n",
    "voter_df = voter_df.filter(voter_df.VOTER_NAME.isNotNull())\n",
    "\n",
    "# Split the VOTER_NAME into separate parts\n",
    "voter_df = voter_df.withColumn('splits', F.split(voter_df.VOTER_NAME, '\\s+'))\n",
    "\n",
    "# Define the UDF schema\n",
    "name_schema = StructType([\n",
    "    StructField(\"first_name\", StringType(), True),\n",
    "    StructField(\"second_name\", StringType(), True),\n",
    "    StructField(\"last_name\", StringType(), True)\n",
    "])\n",
    "\n",
    "# Define the UDF\n",
    "def fullSeperateName(splits):\n",
    "    return (splits[0], '' if splits[1] == splits[-1] else splits[1], splits[-1])\n",
    "\n",
    "udfFullSeperateName = F.udf(fullSeperateName, name_schema)\n",
    "\n",
    "# Create new columns using the UDF\n",
    "voter_df = voter_df.withColumn('name_struct', udfFullSeperateName(voter_df.splits))\n",
    "voter_df = voter_df.select(\n",
    "    '*',\n",
    "    F.col('name_struct.first_name').alias('First_name'),\n",
    "    F.col('name_struct.second_name').alias('Second_name'),\n",
    "    F.col('name_struct.last_name').alias('Last_name')\n",
    ").drop('name_struct','splits', 'VOTER_NAME')\n",
    "\n",
    "# Show the DataFrame\n",
    "voter_df.show()\n"
   ]
  },
  {
   "cell_type": "code",
   "execution_count": null,
   "metadata": {},
   "outputs": [],
   "source": []
  },
  {
   "cell_type": "code",
   "execution_count": null,
   "metadata": {},
   "outputs": [],
   "source": []
  }
 ],
 "metadata": {
  "kernelspec": {
   "display_name": "Python 3",
   "language": "python",
   "name": "python3"
  },
  "language_info": {
   "codemirror_mode": {
    "name": "ipython",
    "version": 3
   },
   "file_extension": ".py",
   "mimetype": "text/x-python",
   "name": "python",
   "nbconvert_exporter": "python",
   "pygments_lexer": "ipython3",
   "version": "3.6.9"
  },
  "toc": {
   "base_numbering": 1,
   "nav_menu": {},
   "number_sections": true,
   "sideBar": true,
   "skip_h1_title": false,
   "title_cell": "Table of Contents",
   "title_sidebar": "Contents",
   "toc_cell": false,
   "toc_position": {},
   "toc_section_display": true,
   "toc_window_display": false
  }
 },
 "nbformat": 4,
 "nbformat_minor": 2
}
