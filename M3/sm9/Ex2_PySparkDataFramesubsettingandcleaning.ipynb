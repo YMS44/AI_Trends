{
 "cells": [
  {
   "cell_type": "markdown",
   "metadata": {},
   "source": [
    "# PySpark DataFrame subsetting and cleaning\n",
    "\n",
    "- After data inspection, it is often necessary to clean the data which mainly involves subsetting, renaming the columns, removing duplicated rows etc., PySpark DataFrame API provides several operators to do this. In this exercise, your job is to subset `'name'`, `'sex'` and `'date of birth'` columns from `people_df` DataFrame, remove any duplicate rows from that dataset and count the number of rows before and after duplicates removal step.\n",
    "\n",
    "- Remember, you already have `SparkSession` `spark` and `people_df` DataFrames available in your workspace."
   ]
  },
  {
   "cell_type": "markdown",
   "metadata": {},
   "source": [
    "## Instructions\n",
    "\n",
    "- Select `'name'`, `'sex'` and `'date of birth'` columns from `people_df` and create `people_df_sub` DataFrame.\n",
    "- Print the first 10 observations in the `people_df` DataFrame.\n",
    "- Remove duplicate entries from `people_df_sub` DataFrame and create `people_df_sub_nodup` DataFrame.\n",
    "- How many rows are there before and after duplicates are removed?"
   ]
  },
  {
   "cell_type": "code",
   "execution_count": 2,
   "metadata": {},
   "outputs": [],
   "source": [
    "# Intialization\n",
    "import os\n",
    "import sys\n",
    "\n",
    "os.environ[\"SPARK_HOME\"] = \"/home/talentum/spark\"\n",
    "os.environ[\"PYLIB\"] = os.environ[\"SPARK_HOME\"] + \"/python/lib\"\n",
    "# In below two lines, use /usr/bin/python2.7 if you want to use Python 2\n",
    "os.environ[\"PYSPARK_PYTHON\"] = \"/usr/bin/python3.6\" \n",
    "os.environ[\"PYSPARK_DRIVER_PYTHON\"] = \"/usr/bin/python3\"\n",
    "sys.path.insert(0, os.environ[\"PYLIB\"] +\"/py4j-0.10.7-src.zip\")\n",
    "sys.path.insert(0, os.environ[\"PYLIB\"] +\"/pyspark.zip\")\n",
    "\n",
    "# NOTE: Whichever package you want mention here.\n",
    "# os.environ['PYSPARK_SUBMIT_ARGS'] = '--packages com.databricks:spark-xml_2.11:0.6.0 pyspark-shell' \n",
    "# os.environ['PYSPARK_SUBMIT_ARGS'] = '--packages org.apache.spark:spark-avro_2.11:2.4.0 pyspark-shell'\n",
    "os.environ['PYSPARK_SUBMIT_ARGS'] = '--packages com.databricks:spark-xml_2.11:0.6.0,org.apache.spark:spark-avro_2.11:2.4.3 pyspark-shell'\n",
    "# os.environ['PYSPARK_SUBMIT_ARGS'] = '--packages com.databricks:spark-xml_2.11:0.6.0,org.apache.spark:spark-avro_2.11:2.4.0 pyspark-shell''"
   ]
  },
  {
   "cell_type": "code",
   "execution_count": 3,
   "metadata": {},
   "outputs": [],
   "source": [
    "#Entrypoint 2.x\n",
    "from pyspark.sql import SparkSession\n",
    "spark = SparkSession.builder.appName(\"Spark SQL basic example\").enableHiveSupport().getOrCreate()\n",
    "\n",
    "# On yarn:\n",
    "# spark = SparkSession.builder.appName(\"Spark SQL basic example\").enableHiveSupport().master(\"yarn\").getOrCreate()\n",
    "# specify .master(\"yarn\")\n",
    "\n",
    "sc = spark.sparkContext"
   ]
  },
  {
   "cell_type": "code",
   "execution_count": 4,
   "metadata": {},
   "outputs": [
    {
     "name": "stdout",
     "output_type": "stream",
     "text": [
      "+----------------+------+-------------+\n",
      "|            name|   sex|date of birth|\n",
      "+----------------+------+-------------+\n",
      "|  Penelope Lewis|female|   1990-08-31|\n",
      "|   David Anthony|  male|   1971-10-14|\n",
      "|       Ida Shipp|female|   1962-05-24|\n",
      "|    Joanna Moore|female|   2017-03-10|\n",
      "|  Lisandra Ortiz|female|   2020-08-05|\n",
      "|   David Simmons|  male|   1999-12-30|\n",
      "|   Edward Hudson|  male|   1983-05-09|\n",
      "|    Albert Jones|  male|   1990-09-13|\n",
      "|Leonard Cavender|  male|   1958-08-08|\n",
      "|  Everett Vadala|  male|   2005-05-24|\n",
      "+----------------+------+-------------+\n",
      "only showing top 10 rows\n",
      "\n",
      "There were 100000 rows before removing duplicates, and 99998 rows after removing duplicates\n"
     ]
    }
   ],
   "source": [
    "file_path = \"file:///home/talentum/test-jupyter/P3/M3/Dataset/people.csv\"\n",
    "\n",
    "# Create an DataFrame from file_path\n",
    "people_df = spark.read.csv(file_path, header=True, inferSchema=True)\n",
    "\n",
    "# Select name, sex and date of birth columns\n",
    "people_df_sub = people_df.select('name', 'sex', 'date of birth')\n",
    "\n",
    "# Print the first 10 observations from people_df_sub\n",
    "people_df_sub.show(10)\n",
    "\n",
    "# Remove duplicate entries from people_df_sub\n",
    "people_df_sub_nodup = people_df_sub.dropDuplicates()\n",
    "\n",
    "# Count the number of rows\n",
    "print(\"There were {} rows before removing duplicates, and {} rows after removing duplicates\".format(people_df_sub.count(), people_df_sub_nodup.count()))"
   ]
  },
  {
   "cell_type": "code",
   "execution_count": 8,
   "metadata": {},
   "outputs": [
    {
     "name": "stdout",
     "output_type": "stream",
     "text": [
      "+-------------+------+-------------+-----+\n",
      "|         name|   sex|date of birth|count|\n",
      "+-------------+------+-------------+-----+\n",
      "|Kathryn Davis|female|  20175-02-28|    2|\n",
      "| Robert Smith|  male|  20175-02-28|    2|\n",
      "+-------------+------+-------------+-----+\n",
      "\n"
     ]
    }
   ],
   "source": [
    "file_path = \"file:///home/talentum/test-jupyter/P3/M3/Dataset/people.csv\"\n",
    "\n",
    "# Create an DataFrame from file_path\n",
    "people_df = spark.read.csv(file_path, header=True, inferSchema=True)\n",
    "\n",
    "# Select name, sex and date of birth columns\n",
    "people_df_sub = people_df.select('name', 'sex', 'date of birth')\n",
    "\n",
    "people_df_sub_count= people_df_sub.groupby('name', 'sex', 'date of birth').count()\n",
    "\n",
    "people_df_sub_duplicate=people_df_sub_count.filter('count>1')\n",
    "people_df_sub_duplicate.show()"
   ]
  },
  {
   "cell_type": "code",
   "execution_count": 17,
   "metadata": {},
   "outputs": [
    {
     "name": "stdout",
     "output_type": "stream",
     "text": [
      "+-------------+------+-------------+-----+\n",
      "|         name|   sex|date of birth|count|\n",
      "+-------------+------+-------------+-----+\n",
      "|Kathryn Davis|female|  20175-02-28|    2|\n",
      "| Robert Smith|  male|  20175-02-28|    2|\n",
      "+-------------+------+-------------+-----+\n",
      "\n"
     ]
    }
   ],
   "source": [
    "people_df.groupby(people_df.name, people_df.sex, people_df['date of birth']).count().filter('count>1').show()"
   ]
  },
  {
   "cell_type": "code",
   "execution_count": 18,
   "metadata": {},
   "outputs": [
    {
     "name": "stdout",
     "output_type": "stream",
     "text": [
      "+-------------+------+-------------+-----+\n",
      "|         name|   sex|date of birth|count|\n",
      "+-------------+------+-------------+-----+\n",
      "|Kathryn Davis|female|  20175-02-28|    2|\n",
      "| Robert Smith|  male|  20175-02-28|    2|\n",
      "+-------------+------+-------------+-----+\n",
      "\n"
     ]
    }
   ],
   "source": [
    "people_df\\\n",
    ".groupby(people_df.name, people_df.sex, people_df['date of birth'])\\\n",
    ".count()\\\n",
    ".filter('count>1')\\\n",
    ".show()"
   ]
  },
  {
   "cell_type": "code",
   "execution_count": 20,
   "metadata": {},
   "outputs": [],
   "source": [
    "import pyspark.sql.functions as F"
   ]
  },
  {
   "cell_type": "code",
   "execution_count": 21,
   "metadata": {},
   "outputs": [
    {
     "name": "stdout",
     "output_type": "stream",
     "text": [
      "+-------------+------+-------------+-----+\n",
      "|         name|   sex|date of birth|count|\n",
      "+-------------+------+-------------+-----+\n",
      "|Kathryn Davis|female|  20175-02-28|    2|\n",
      "| Robert Smith|  male|  20175-02-28|    2|\n",
      "+-------------+------+-------------+-----+\n",
      "\n"
     ]
    }
   ],
   "source": [
    "people_df\\\n",
    ".groupby(people_df.name, people_df.sex, people_df['date of birth'])\\\n",
    ".count()\\\n",
    ".filter(F.col('count')>1)\\\n",
    ".show()"
   ]
  },
  {
   "cell_type": "code",
   "execution_count": 23,
   "metadata": {},
   "outputs": [
    {
     "name": "stdout",
     "output_type": "stream",
     "text": [
      "<class 'pyspark.sql.column.Column'>\n"
     ]
    }
   ],
   "source": [
    "print(type(F.col('count')>1))"
   ]
  },
  {
   "cell_type": "code",
   "execution_count": 26,
   "metadata": {},
   "outputs": [
    {
     "name": "stdout",
     "output_type": "stream",
     "text": [
      "+-----------------+------+-------------+-----+\n",
      "|             name|   sex|date of birth|count|\n",
      "+-----------------+------+-------------+-----+\n",
      "|   Peggy Weinberg|female|   1983-07-28|    1|\n",
      "| Christina Bolduc|female|   1982-09-02|    1|\n",
      "|  Margaret Mackie|female|   1965-12-30|    1|\n",
      "|Richard Constance|  null|   1983-06-23|    1|\n",
      "|      Iris Castro|female|   1993-09-08|    1|\n",
      "|  Maxine Dettloff|female|   1983-06-22|    1|\n",
      "| Gregory Ferguson|  male|   1982-06-07|    1|\n",
      "|      Elvis Stein|  male|   2014-07-29|    1|\n",
      "|      Mary Dunbar|female|   1954-09-24|    1|\n",
      "|     Ruth Dickson|female|   1983-02-03|    1|\n",
      "|     Wendy Roybal|female|   1999-03-22|    1|\n",
      "| Jeannie Kappeler|female|   1965-01-29|    1|\n",
      "|      Nancy Evans|female|   1967-05-13|    1|\n",
      "|   Michael Ferrer|  male|   1945-12-29|    1|\n",
      "|     Dewey Torres|  male|   1978-12-13|    1|\n",
      "| Willie Sanderson|  male|   1968-06-27|    1|\n",
      "|      Diane Lopes|female|   1970-09-04|    1|\n",
      "|     Tim Angelico|  male|   2014-10-08|    1|\n",
      "|  Heather Siewers|female|   1964-03-01|    1|\n",
      "| Richard Rockwell|  male|   1998-12-21|    1|\n",
      "+-----------------+------+-------------+-----+\n",
      "only showing top 20 rows\n",
      "\n"
     ]
    }
   ],
   "source": [
    "people_df_sub_count.exceptAll(people_df_sub_duplicate).show()"
   ]
  },
  {
   "cell_type": "code",
   "execution_count": null,
   "metadata": {},
   "outputs": [],
   "source": []
  }
 ],
 "metadata": {
  "kernelspec": {
   "display_name": "Python 3",
   "language": "python",
   "name": "python3"
  },
  "language_info": {
   "codemirror_mode": {
    "name": "ipython",
    "version": 3
   },
   "file_extension": ".py",
   "mimetype": "text/x-python",
   "name": "python",
   "nbconvert_exporter": "python",
   "pygments_lexer": "ipython3",
   "version": "3.6.9"
  },
  "toc": {
   "base_numbering": 1,
   "nav_menu": {},
   "number_sections": true,
   "sideBar": true,
   "skip_h1_title": false,
   "title_cell": "Table of Contents",
   "title_sidebar": "Contents",
   "toc_cell": false,
   "toc_position": {},
   "toc_section_display": true,
   "toc_window_display": false
  }
 },
 "nbformat": 4,
 "nbformat_minor": 2
}
